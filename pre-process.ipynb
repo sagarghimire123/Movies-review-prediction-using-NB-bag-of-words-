{
 "cells": [
  {
   "cell_type": "code",
   "execution_count": 2,
   "id": "3b631ee0",
   "metadata": {},
   "outputs": [
    {
     "name": "stdout",
     "output_type": "stream",
     "text": [
      "resultant files  are saved in desired folders in local computer \n"
     ]
    }
   ],
   "source": [
    "import os\n",
    "import sys\n",
    "import json\n",
    "\n",
    "import os\n",
    "import json\n",
    "\n",
    "# Function to count frequencies of words in text\n",
    "def count_frequencies(text):\n",
    "    freq = {}\n",
    "    for word in text:\n",
    "        if word in freq:\n",
    "            freq[word] += 1\n",
    "        else:\n",
    "            freq[word] = 1\n",
    "    return freq\n",
    "\n",
    "# Function to ignore words not present in the vocabulary\n",
    "def ignore_unseen_words(words, vocabulary):\n",
    "    return [word for word in words if word in vocabulary]\n",
    "\n",
    "# Function to remove punctuation from text\n",
    "def remove_punctuation(text):\n",
    "    # Define punctuation characters to remove\n",
    "    punctuation_to_remove = {'\"', '*', '+', '.', '/', '<', '>', '@', '^', '_', '`', '{', '|', '~', ',', ':', ';', '!', '?', '(', ')', '[', ']'}\n",
    "    new_text = \"\"\n",
    "    for char in text:\n",
    "        if char not in punctuation_to_remove:\n",
    "            new_text += char.lower()\n",
    "    return new_text.split()\n",
    "\n",
    "# Function to preprocess training data and save feature vectors to a file\n",
    "def preprocess(directory, vocabul):\n",
    "    feature_vectors = []\n",
    "    for label in os.listdir(directory):\n",
    "        folder = os.path.join(directory, label)\n",
    "        if os.path.isdir(folder):\n",
    "            for filename in os.listdir(folder):\n",
    "                if filename.endswith(\".txt\"):\n",
    "                    with open(os.path.join(folder, filename), \"r\") as f:\n",
    "                        # Remove punctuation and ignore unseen words\n",
    "                        words = remove_punctuation(f.read())\n",
    "                        words = ignore_unseen_words(words, vocabulary)\n",
    "                        # Count word frequencies and append to feature vectors\n",
    "                        feature_vectors.append({label: count_frequencies(words)})\n",
    "    ## name of file to output for train feature vectors\n",
    "    output_name1 = \"movie-review-BOWtrain.NB\"\n",
    "    with open(output_name1, \"w\") as output:\n",
    "        for line in feature_vectors:\n",
    "            output.write(json.dumps(line) + '\\n')\n",
    "## input train data for preprocessing tasks \n",
    "directory1 = \"/Users/ocn/Desktop/movie-review-HW2/aclImdb/train\"\n",
    "## ## path of vocabulary as given by professor \n",
    "vocabulary = set([line.rstrip() for line in open('/Users/ocn/Desktop/movie-review-HW2/aclImdb/imdb.vocab')])\n",
    "preprocess(directory1, vocabulary)\n",
    "\n",
    "# Function to preprocess test data and save feature vectors to a file\n",
    "def preprocess_test_data(directory, vocabulary):\n",
    "    feature_vectors = []\n",
    "    for label in os.listdir(directory):\n",
    "        folder = os.path.join(directory, label)\n",
    "        if os.path.isdir(folder):\n",
    "            for filename in os.listdir(folder):\n",
    "                if filename.endswith(\".txt\"):\n",
    "                    with open(os.path.join(folder, filename), \"r\") as f:\n",
    "                        # Remove punctuation and ignore unseen words\n",
    "                        words = remove_punctuation(f.read())\n",
    "                        words = ignore_unseen_words(words, vocabulary)\n",
    "                        # Count word frequencies and append to feature vectors\n",
    "                        feature_vectors.append({label: count_frequencies(words)})\n",
    "    ## path for output test data  which is featurer vectors                    \n",
    "    output_name2 = \"movie-review-BOWtest.NB\"\n",
    "    with open(output_name2, \"w\") as output:\n",
    "        for line in feature_vectors:\n",
    "            output.write(json.dumps(line) + '\\n')\n",
    "## path for input test daat fro preprocessing\n",
    "directory2 = \"/Users/ocn/Desktop/movie-review-HW2/aclImdb/test\"\n",
    "preprocess_test_data(directory2, vocabulary)\n",
    "print(\"resultant files  are saved in desired folders in local computer \")\n"
   ]
  },
  {
   "cell_type": "code",
   "execution_count": null,
   "id": "b0658f90",
   "metadata": {},
   "outputs": [],
   "source": []
  }
 ],
 "metadata": {
  "kernelspec": {
   "display_name": "Python 3 (ipykernel)",
   "language": "python",
   "name": "python3"
  },
  "language_info": {
   "codemirror_mode": {
    "name": "ipython",
    "version": 3
   },
   "file_extension": ".py",
   "mimetype": "text/x-python",
   "name": "python",
   "nbconvert_exporter": "python",
   "pygments_lexer": "ipython3",
   "version": "3.9.12"
  }
 },
 "nbformat": 4,
 "nbformat_minor": 5
}
