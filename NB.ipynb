{
 "cells": [
  {
   "cell_type": "code",
   "execution_count": 2,
   "id": "fefa9c02",
   "metadata": {},
   "outputs": [
    {
     "name": "stdout",
     "output_type": "stream",
     "text": [
      "Predictions written to: /Users/ocn/desktop/NLP_assignment2/predictions.txt\n"
     ]
    }
   ],
   "source": [
    "import json\n",
    "import math\n",
    "## Create a class for Naive Bayes model\n",
    "class NaiveBayesClassifier:\n",
    "    ## Constructor method\n",
    "    def __init__(self, train_data, vocabulary):\n",
    "        # Training data containing labels and corresponding features\n",
    "        self.train_data = train_data\n",
    "         # Vocabulary containing all unique words in the dataset\n",
    "        self.vocabulary = vocabulary\n",
    "        # Set of unique classes in the training data\n",
    "        self.classes = set(label for label, _ in train_data)\n",
    "        # Dictionary to store prior probabilities for each class\n",
    "        self.priors = {}\n",
    "        # Nested dictionary to store likelihood probabilities for each word in each class\n",
    "        self.likelihoods = {label: {word: 0 for word in vocabulary} for label in self.classes}\n",
    "        # Compute priors and likelihoods during initialization\n",
    "        self.compute_priors()\n",
    "        self.compute_likelihoods()\n",
    "     # Method to compute prior probabilities for each class\n",
    "    def compute_priors(self):\n",
    "        total_docs = len(self.train_data)\n",
    "        for label in self.classes:\n",
    "            # Count the number of documents belonging to the current class\n",
    "            docs_in_class = sum(1 for lbl, _ in self.train_data if lbl == label)\n",
    "            # Calculate prior probability for the class\n",
    "            self.priors[label] = docs_in_class / total_docs\n",
    "    # Method to compute likelihood probabilities for each word in each class\n",
    "    def compute_likelihoods(self):\n",
    "        class_word_counts = {label: {word: 0 for word in self.vocabulary} for label in self.classes}\n",
    "        class_total_words = {label: 0 for label in self.classes}\n",
    "        # Iterate through training data\n",
    "        for label, doc in self.train_data:\n",
    "            ## update word counts and total word counts for each class\n",
    "            for word, count in doc.items():\n",
    "                class_word_counts[label][word] += count\n",
    "                class_total_words[label] += count\n",
    "        ## calculate likelihood using laplace smoothing\n",
    "        for label in self.classes:\n",
    "            total_words = sum(class_word_counts[label].values())\n",
    "            for word in self.vocabulary:\n",
    "                ## add one smoothing for each word\n",
    "                self.likelihoods[label][word] = (class_word_counts[label][word] + 1) / (total_words + len(self.vocabulary))\n",
    "     # Method to predict the class for test features\n",
    "    def predict(self, test_features):\n",
    "        ## dict to store log probs\n",
    "        class_probs = {}\n",
    "        for label in self.classes:\n",
    "            ## initialize log prob with prior prob\n",
    "            class_probs[label] = math.log(self.priors[label])\n",
    "            for word, count in test_features.items():\n",
    "                if word in self.vocabulary:\n",
    "                    ## update log prob using likelihood\n",
    "                    class_probs[label] += count * math.log(self.likelihoods[label][word])\n",
    "\n",
    "        return max(class_probs, key=class_probs.get)\n",
    "     # Method to calculate accuracy of the model\n",
    "    def calculate_accuracy(self, test_data):\n",
    "        correct_predictions = 0\n",
    "        total_predictions = len(test_data)\n",
    "        for label, features in test_data:\n",
    "             # Predict the class for test features\n",
    "            predicted_class = self.predict(features)\n",
    "            if predicted_class == label:\n",
    "                correct_predictions += 1\n",
    "        return correct_predictions / total_predictions\n",
    "\n",
    "\n",
    "def load_data(file_path):\n",
    "    data = []\n",
    "    with open(file_path, \"r\") as file:\n",
    "        for line in file:\n",
    "            vector = json.loads(line)\n",
    "            label = list(vector.keys())[0]  # Extract the label\n",
    "            features = vector[label]  # Extract the feature vector\n",
    "            data.append((label, features))  # Append as a single tuple\n",
    "    return data\n",
    "\n",
    "# Load training data\n",
    "train_input_file_path = \"/Users/ocn/desktop/NLP_assignment2/movie-review-BOWtrain.NB\"\n",
    "training_data = load_data(train_input_file_path)\n",
    "\n",
    "# Extract vocabulary\n",
    "vocabulary = set([line.rstrip() for line in open('/Users/ocn/Desktop/movie-review-HW2/aclImdb/imdb.vocab')])\n",
    "\n",
    "# Create Naive Bayes Classifier\n",
    "classifier = NaiveBayesClassifier(training_data, vocabulary)\n",
    "\n",
    "# Load test data\n",
    "test_input_file_path = \"/Users/ocn/desktop/NLP_assignment2/movie-review-BOWtest.NB\"\n",
    "test_data = load_data(test_input_file_path)\n",
    "\n",
    "# Predict labels for test data\n",
    "predicted_labels = [classifier.predict(features) for _, features in test_data]\n",
    "\n",
    "# Calculate actual labels for the test data\n",
    "actual_labels = [label for label, _ in test_data]\n",
    "\n",
    "# Calculate accuracy\n",
    "accuracy = classifier.calculate_accuracy(test_data)\n",
    "\n",
    "# Write predicted and actual labels side by side into a text file\n",
    "output_file_path = \"/Users/ocn/desktop/NLP_assignment2/predictions.txt\"\n",
    "with open(output_file_path, \"w\") as output_file:\n",
    "    for predicted_label, actual_label in zip(predicted_labels, actual_labels):\n",
    "        output_file.write(f\"Predicted: {predicted_label}\\tActual: {actual_label}\\n\")\n",
    "    output_file.write(f\"Accuracy: {accuracy}\")\n",
    "\n",
    "print(\"Predictions written to:\", output_file_path)\n"
   ]
  },
  {
   "cell_type": "code",
   "execution_count": 3,
   "id": "5c290097",
   "metadata": {},
   "outputs": [
    {
     "name": "stdout",
     "output_type": "stream",
     "text": [
      "The accuracy odf the test data is 81.312\n"
     ]
    }
   ],
   "source": [
    "print(\"The accuracy odf the test data is\",accuracy*100)"
   ]
  },
  {
   "cell_type": "code",
   "execution_count": 4,
   "id": "3ba8f71b",
   "metadata": {},
   "outputs": [
    {
     "name": "stderr",
     "output_type": "stream",
     "text": [
      "/opt/anaconda3/lib/python3.9/site-packages/scipy/__init__.py:146: UserWarning: A NumPy version >=1.16.5 and <1.23.0 is required for this version of SciPy (detected version 1.26.2\n",
      "  warnings.warn(f\"A NumPy version >={np_minversion} and <{np_maxversion}\"\n"
     ]
    },
    {
     "name": "stdout",
     "output_type": "stream",
     "text": [
      "Classification Report:\n",
      "              precision    recall  f1-score   support\n",
      "\n",
      "         neg       0.78      0.88      0.82     12500\n",
      "         pos       0.86      0.75      0.80     12500\n",
      "\n",
      "    accuracy                           0.81     25000\n",
      "   macro avg       0.82      0.81      0.81     25000\n",
      "weighted avg       0.82      0.81      0.81     25000\n",
      "\n"
     ]
    }
   ],
   "source": [
    "from sklearn.metrics import classification_report\n",
    "\n",
    "# Generate classification report\n",
    "report = classification_report(actual_labels, predicted_labels)\n",
    "\n",
    "# Print the classification report\n",
    "print(\"Classification Report:\")\n",
    "print(report)"
   ]
  },
  {
   "cell_type": "code",
   "execution_count": 5,
   "id": "9481cafa",
   "metadata": {},
   "outputs": [
    {
     "data": {
      "image/png": "[encoded data removed]",
      "text/plain": [
       "<Figure size 720x576 with 2 Axes>"
      ]
     },
     "metadata": {
      "needs_background": "light"
     },
     "output_type": "display_data"
    }
   ],
   "source": [
    "from sklearn.metrics import confusion_matrix\n",
    "import seaborn as sns\n",
    "import matplotlib.pyplot as plt\n",
    "\n",
    "# Calculate the confusion matrix\n",
    "cm = confusion_matrix(actual_labels, predicted_labels)\n",
    "\n",
    "# Plot the confusion matrix as a heatmap\n",
    "plt.figure(figsize=(10, 8))\n",
    "sns.heatmap(cm, annot=True, cmap=\"Blues\", fmt=\"d\", xticklabels=classifier.classes, yticklabels=classifier.classes)\n",
    "plt.xlabel(\"Predicted Labels\")\n",
    "plt.ylabel(\"Actual Labels\")\n",
    "plt.title(\"Confusion Matrix\")\n",
    "plt.show()"
   ]
  },
  {
   "cell_type": "markdown",
   "id": "8924dd25",
   "metadata": {},
   "source": [
    "#### CONCLUSION:\n",
    "#### The result of this  test was decent as we are able to achieve 81.3 % of accuracy for the test data. This is the confusion matrix for the predicted neg and pos documents. Negative classes are predicted more than positive class in this test. Negative are predicted more than 14,064 and positive are predicted below 10,936.  The accuracy is better as it is over 80%.  Reason behind incorrect predictions  may be because of any step missed in preprocessing . Both the classes have same prior probability of 0.5.  When I tried different preprocessing methods like removing stop words, single characters and removing words with low frequency. The accuracy got lower than 55.8%. Since, the vocabulary has many punctuations like – which is attached to the words like well-beings. So, applied preprocessing according to the vocabulary. \n",
    "\n",
    "#### In future the plan is to check the model again and increase the performance without any bias and get the accuracy above 90%.  "
   ]
  },
  {
   "cell_type": "markdown",
   "id": "66979ee9",
   "metadata": {},
   "source": [
    "### "
   ]
  }
 ],
 "metadata": {
  "kernelspec": {
   "display_name": "Python 3 (ipykernel)",
   "language": "python",
   "name": "python3"
  },
  "language_info": {
   "codemirror_mode": {
    "name": "ipython",
    "version": 3
   },
   "file_extension": ".py",
   "mimetype": "text/x-python",
   "name": "python",
   "nbconvert_exporter": "python",
   "pygments_lexer": "ipython3",
   "version": "3.9.12"
  }
 },
 "nbformat": 4,
 "nbformat_minor": 5
}
